{
 "cells": [
  {
   "cell_type": "markdown",
   "metadata": {},
   "source": [
    "# Number Guesser"
   ]
  },
  {
   "cell_type": "code",
   "execution_count": 1,
   "metadata": {
    "collapsed": true
   },
   "outputs": [],
   "source": [
    "import random as rand"
   ]
  },
  {
   "cell_type": "markdown",
   "metadata": {},
   "source": [
    "### Initialization of variables"
   ]
  },
  {
   "cell_type": "code",
   "execution_count": 2,
   "metadata": {
    "collapsed": true
   },
   "outputs": [],
   "source": [
    "# Setting up Upper and Lower limits\n",
    "low_limit = 0\n",
    "high_limit = 10\n",
    "\n",
    "# Setting up flag for looping\n",
    "flag = True"
   ]
  },
  {
   "cell_type": "markdown",
   "metadata": {},
   "source": [
    "### Core component of the game logic"
   ]
  },
  {
   "cell_type": "code",
   "execution_count": 3,
   "metadata": {},
   "outputs": [
    {
     "name": "stdout",
     "output_type": "stream",
     "text": [
      "Enter a number from 0 to 10 : 5\n",
      "User value entered is more then guessed value ! you have 2 chance left\n",
      "Enter a number from 0 to 10 : 2\n",
      "User value entered is more then guessed value ! you have 1 chance left\n",
      "Enter a number from 0 to 10 : 1\n",
      "User value entered is more then guessed value ! you have 0 chance left\n",
      "You have not guessed correct number(0) better luck next time !!\n",
      "Press y to continue or press any other key to close : y\n",
      "Enter a number from 0 to 10 : 5\n",
      "You have Guessed Correct answer !!!\n",
      "Press y to continue or press any other key to close : y\n",
      "Enter a number from 0 to 10 : 5\n",
      "User value entered is less then guessed value ! you have 2 chance left\n",
      "Enter a number from 0 to 10 : 8\n",
      "You have Guessed Correct answer !!!\n",
      "Press y to continue or press any other key to close : n\n"
     ]
    }
   ],
   "source": [
    "while (flag):    \n",
    "    # Computer selected value\n",
    "    guessed_value = rand.randint(low_limit, high_limit)\n",
    "    # Three Chance for the user to select\n",
    "    for i in range(3):\n",
    "        # user inputs\n",
    "        user_input = int(input(\"Enter a number from \" + str(low_limit) + \" to \" + str(high_limit) + \" : \"))\n",
    "\n",
    "        # Validating users input\n",
    "        if ((user_input < low_limit) or (user_input > high_limit)):\n",
    "            print (\"Invalid number: number should be from \"+ str(low_limit) + \" to \" + str(high_limit))\n",
    "            print(\"you have \"+ str(3-i) + \" chance left\")\n",
    "            continue\n",
    "\n",
    "        # Comparing value (core part)\n",
    "        if (user_input < guessed_value):\n",
    "            print (\"User value entered is less then guessed value ! you have \"+ str(2-i) + \" chance left\")\n",
    "        elif (user_input > guessed_value):\n",
    "            print (\"User value entered is more then guessed value ! you have \"+ str(2-i) + \" chance left\")\n",
    "        else:\n",
    "            print (\"You have Guessed Correct answer !!!\")\n",
    "            break\n",
    "    else:\n",
    "        print (\"You have not guessed correct number(\"+ str(guessed_value) +\") better luck next time !!\")\n",
    "    \n",
    "    # Asking for continue or exit the game\n",
    "    cont = input(\"Press y to continue or press any other key to close : \").lower()\n",
    "    if(cont != \"y\"):\n",
    "        flag = False"
   ]
  }
 ],
 "metadata": {
  "kernelspec": {
   "display_name": "Python 3",
   "language": "python",
   "name": "python3"
  },
  "language_info": {
   "codemirror_mode": {
    "name": "ipython",
    "version": 3
   },
   "file_extension": ".py",
   "mimetype": "text/x-python",
   "name": "python",
   "nbconvert_exporter": "python",
   "pygments_lexer": "ipython3",
   "version": "3.5.2"
  }
 },
 "nbformat": 4,
 "nbformat_minor": 2
}
